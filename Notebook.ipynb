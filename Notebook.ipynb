{
 "cells": [
  {
   "cell_type": "markdown",
   "metadata": {},
   "source": [
    "# Setup"
   ]
  },
  {
   "cell_type": "markdown",
   "metadata": {},
   "source": [
    "## Libraries"
   ]
  },
  {
   "cell_type": "code",
   "execution_count": 16,
   "metadata": {},
   "outputs": [],
   "source": [
    "# Regex\n",
    "\n",
    "import re\n",
    "\n",
    "# Date and time\n",
    "\n",
    "import time as t\n",
    "import datetime as dt\n",
    "\n",
    "# Data Analysis\n",
    "\n",
    "import numpy as np\n",
    "import pandas as pd\n",
    "\n",
    "# Visualization\n",
    "\n",
    "import seaborn as sns\n",
    "import missingno as msno\n",
    "import matplotlib.pyplot as plt\n",
    "\n",
    "# Warnings\n",
    "\n",
    "import warnings\n",
    "warnings.filterwarnings(\"ignore\")"
   ]
  },
  {
   "cell_type": "markdown",
   "metadata": {},
   "source": [
    "## Pandas Settings"
   ]
  },
  {
   "cell_type": "code",
   "execution_count": 17,
   "metadata": {},
   "outputs": [],
   "source": [
    "# Settings selected\n",
    "\n",
    "pd.set_option('display.width', 1000)                  # Max width of each column\n",
    "pd.set_option('display.max_rows', 500)                # Max number of rows displayed\n",
    "pd.set_option(\"display.max_columns\", None)            # Max number of columns displayed\n",
    "pd.set_option('display.max_colwidth', 500)            # Max number of character displayed in column\n",
    "pd.set_option('display.precision', 2)                 # Number of decimal float columns display\n",
    "pd.set_option('display.float_format',  '{:,}'.format) # Show big numbers \n",
    "pd.set_option('display.colheader_justify', 'center')  # Justification of header"
   ]
  },
  {
   "cell_type": "markdown",
   "metadata": {},
   "source": [
    "## Scikit Learn"
   ]
  },
  {
   "cell_type": "code",
   "execution_count": 18,
   "metadata": {},
   "outputs": [],
   "source": [
    "# Scikitlearn\n",
    "\n",
    "from sklearn import datasets\n",
    "\n",
    "# Train and test split \n",
    "\n",
    "from sklearn.model_selection import train_test_split\n",
    "\n",
    "# Algorithm\n",
    "\n",
    "from sklearn.tree import DecisionTreeClassifier\n",
    "\n",
    "# Metrics\n",
    "\n",
    "from sklearn.metrics import accuracy_score\n",
    "from sklearn.metrics import precision_score\n",
    "from sklearn.metrics import recall_score\n",
    "from sklearn.metrics import f1_score\n",
    "from sklearn.metrics import matthews_corrcoef\n",
    "\n",
    "from sklearn.metrics import classification_report\n",
    "from sklearn.metrics import confusion_matrix"
   ]
  },
  {
   "cell_type": "markdown",
   "metadata": {},
   "source": [
    "# Import"
   ]
  },
  {
   "cell_type": "code",
   "execution_count": 23,
   "metadata": {},
   "outputs": [
    {
     "name": "stdout",
     "output_type": "stream",
     "text": [
      ".. _breast_cancer_dataset:\n",
      "\n",
      "Breast cancer wisconsin (diagnostic) dataset\n",
      "--------------------------------------------\n",
      "\n",
      "**Data Set Characteristics:**\n",
      "\n",
      "    :Number of Instances: 569\n",
      "\n",
      "    :Number of Attributes: 30 numeric, predictive attributes and the class\n",
      "\n",
      "    :Attribute Information:\n",
      "        - radius (mean of distances from center to points on the perimeter)\n",
      "        - texture (standard deviation of gray-scale values)\n",
      "        - perimeter\n",
      "        - area\n",
      "        - smoothness (local variation in radius lengths)\n",
      "        - compactness (perimeter^2 / area - 1.0)\n",
      "        - concavity (severity of concave portions of the contour)\n",
      "        - concave points (number of concave portions of the contour)\n",
      "        - symmetry\n",
      "        - fractal dimension (\"coastline approximation\" - 1)\n",
      "\n",
      "        The mean, standard error, and \"worst\" or largest (mean of the three\n",
      "        worst/largest values) of these features were computed for each image,\n",
      "        resulting in 30 features.  For instance, field 0 is Mean Radius, field\n",
      "        10 is Radius SE, field 20 is Worst Radius.\n",
      "\n",
      "        - class:\n",
      "                - WDBC-Malignant\n",
      "                - WDBC-Benign\n",
      "\n",
      "    :Summary Statistics:\n",
      "\n",
      "    ===================================== ====== ======\n",
      "                                           Min    Max\n",
      "    ===================================== ====== ======\n",
      "    radius (mean):                        6.981  28.11\n",
      "    texture (mean):                       9.71   39.28\n",
      "    perimeter (mean):                     43.79  188.5\n",
      "    area (mean):                          143.5  2501.0\n",
      "    smoothness (mean):                    0.053  0.163\n",
      "    compactness (mean):                   0.019  0.345\n",
      "    concavity (mean):                     0.0    0.427\n",
      "    concave points (mean):                0.0    0.201\n",
      "    symmetry (mean):                      0.106  0.304\n",
      "    fractal dimension (mean):             0.05   0.097\n",
      "    radius (standard error):              0.112  2.873\n",
      "    texture (standard error):             0.36   4.885\n",
      "    perimeter (standard error):           0.757  21.98\n",
      "    area (standard error):                6.802  542.2\n",
      "    smoothness (standard error):          0.002  0.031\n",
      "    compactness (standard error):         0.002  0.135\n",
      "    concavity (standard error):           0.0    0.396\n",
      "    concave points (standard error):      0.0    0.053\n",
      "    symmetry (standard error):            0.008  0.079\n",
      "    fractal dimension (standard error):   0.001  0.03\n",
      "    radius (worst):                       7.93   36.04\n",
      "    texture (worst):                      12.02  49.54\n",
      "    perimeter (worst):                    50.41  251.2\n",
      "    area (worst):                         185.2  4254.0\n",
      "    smoothness (worst):                   0.071  0.223\n",
      "    compactness (worst):                  0.027  1.058\n",
      "    concavity (worst):                    0.0    1.252\n",
      "    concave points (worst):               0.0    0.291\n",
      "    symmetry (worst):                     0.156  0.664\n",
      "    fractal dimension (worst):            0.055  0.208\n",
      "    ===================================== ====== ======\n",
      "\n",
      "    :Missing Attribute Values: None\n",
      "\n",
      "    :Class Distribution: 212 - Malignant, 357 - Benign\n",
      "\n",
      "    :Creator:  Dr. William H. Wolberg, W. Nick Street, Olvi L. Mangasarian\n",
      "\n",
      "    :Donor: Nick Street\n",
      "\n",
      "    :Date: November, 1995\n",
      "\n",
      "This is a copy of UCI ML Breast Cancer Wisconsin (Diagnostic) datasets.\n",
      "https://goo.gl/U2Uwz2\n",
      "\n",
      "Features are computed from a digitized image of a fine needle\n",
      "aspirate (FNA) of a breast mass.  They describe\n",
      "characteristics of the cell nuclei present in the image.\n",
      "\n",
      "Separating plane described above was obtained using\n",
      "Multisurface Method-Tree (MSM-T) [K. P. Bennett, \"Decision Tree\n",
      "Construction Via Linear Programming.\" Proceedings of the 4th\n",
      "Midwest Artificial Intelligence and Cognitive Science Society,\n",
      "pp. 97-101, 1992], a classification method which uses linear\n",
      "programming to construct a decision tree.  Relevant features\n",
      "were selected using an exhaustive search in the space of 1-4\n",
      "features and 1-3 separating planes.\n",
      "\n",
      "The actual linear program used to obtain the separating plane\n",
      "in the 3-dimensional space is that described in:\n",
      "[K. P. Bennett and O. L. Mangasarian: \"Robust Linear\n",
      "Programming Discrimination of Two Linearly Inseparable Sets\",\n",
      "Optimization Methods and Software 1, 1992, 23-34].\n",
      "\n",
      "This database is also available through the UW CS ftp server:\n",
      "\n",
      "ftp ftp.cs.wisc.edu\n",
      "cd math-prog/cpo-dataset/machine-learn/WDBC/\n",
      "\n",
      ".. topic:: References\n",
      "\n",
      "   - W.N. Street, W.H. Wolberg and O.L. Mangasarian. Nuclear feature extraction \n",
      "     for breast tumor diagnosis. IS&T/SPIE 1993 International Symposium on \n",
      "     Electronic Imaging: Science and Technology, volume 1905, pages 861-870,\n",
      "     San Jose, CA, 1993.\n",
      "   - O.L. Mangasarian, W.N. Street and W.H. Wolberg. Breast cancer diagnosis and \n",
      "     prognosis via linear programming. Operations Research, 43(4), pages 570-577, \n",
      "     July-August 1995.\n",
      "   - W.H. Wolberg, W.N. Street, and O.L. Mangasarian. Machine learning techniques\n",
      "     to diagnose breast cancer from fine-needle aspirates. Cancer Letters 77 (1994) \n",
      "     163-171.\n"
     ]
    }
   ],
   "source": [
    "# Check information about breast cancer dataset\n",
    "\n",
    "print(datasets.load_breast_cancer().DESCR)"
   ]
  },
  {
   "cell_type": "code",
   "execution_count": 19,
   "metadata": {},
   "outputs": [
    {
     "name": "stdout",
     "output_type": "stream",
     "text": [
      "<class 'pandas.core.frame.DataFrame'> (569, 30)\n",
      "<class 'pandas.core.series.Series'> (569,)\n"
     ]
    }
   ],
   "source": [
    "# Load dataset breast cancer\n",
    "\n",
    "X, y = datasets.load_breast_cancer(return_X_y = True, as_frame = True)\n",
    "\n",
    "print(type(X), X.shape)\n",
    "print(type(y), y.shape)"
   ]
  },
  {
   "cell_type": "markdown",
   "metadata": {},
   "source": [
    "# Transform"
   ]
  },
  {
   "cell_type": "code",
   "execution_count": 20,
   "metadata": {},
   "outputs": [
    {
     "name": "stdout",
     "output_type": "stream",
     "text": [
      "<class 'pandas.core.frame.DataFrame'>\n",
      "RangeIndex: 569 entries, 0 to 568\n",
      "Data columns (total 30 columns):\n",
      " #   Column                   Non-Null Count  Dtype  \n",
      "---  ------                   --------------  -----  \n",
      " 0   mean radius              569 non-null    float64\n",
      " 1   mean texture             569 non-null    float64\n",
      " 2   mean perimeter           569 non-null    float64\n",
      " 3   mean area                569 non-null    float64\n",
      " 4   mean smoothness          569 non-null    float64\n",
      " 5   mean compactness         569 non-null    float64\n",
      " 6   mean concavity           569 non-null    float64\n",
      " 7   mean concave points      569 non-null    float64\n",
      " 8   mean symmetry            569 non-null    float64\n",
      " 9   mean fractal dimension   569 non-null    float64\n",
      " 10  radius error             569 non-null    float64\n",
      " 11  texture error            569 non-null    float64\n",
      " 12  perimeter error          569 non-null    float64\n",
      " 13  area error               569 non-null    float64\n",
      " 14  smoothness error         569 non-null    float64\n",
      " 15  compactness error        569 non-null    float64\n",
      " 16  concavity error          569 non-null    float64\n",
      " 17  concave points error     569 non-null    float64\n",
      " 18  symmetry error           569 non-null    float64\n",
      " 19  fractal dimension error  569 non-null    float64\n",
      " 20  worst radius             569 non-null    float64\n",
      " 21  worst texture            569 non-null    float64\n",
      " 22  worst perimeter          569 non-null    float64\n",
      " 23  worst area               569 non-null    float64\n",
      " 24  worst smoothness         569 non-null    float64\n",
      " 25  worst compactness        569 non-null    float64\n",
      " 26  worst concavity          569 non-null    float64\n",
      " 27  worst concave points     569 non-null    float64\n",
      " 28  worst symmetry           569 non-null    float64\n",
      " 29  worst fractal dimension  569 non-null    float64\n",
      "dtypes: float64(30)\n",
      "memory usage: 133.5 KB\n"
     ]
    }
   ],
   "source": [
    "# Check columns type and null values\n",
    "\n",
    "X.info()"
   ]
  },
  {
   "cell_type": "markdown",
   "metadata": {},
   "source": [
    "# Modeling"
   ]
  },
  {
   "cell_type": "code",
   "execution_count": 21,
   "metadata": {},
   "outputs": [],
   "source": [
    "# Split into training and test set\n",
    "\n",
    "X_train, X_test, y_train, y_test = train_test_split(X, y, test_size = 0.2, random_state=42, stratify=y)\n",
    "\n",
    "# Create a classifier\n",
    "\n",
    "model = DecisionTreeClassifier()\n",
    "\n",
    "# Fit the classifier whith training dataset\n",
    "\n",
    "model.fit(X_train, y_train)\n",
    "\n",
    "# Create the precdition for test dataset\n",
    "\n",
    "y_pred = model.predict(X_test)"
   ]
  },
  {
   "cell_type": "markdown",
   "metadata": {},
   "source": [
    "# Cofunsion Matrix"
   ]
  },
  {
   "cell_type": "markdown",
   "metadata": {},
   "source": [
    "## Table"
   ]
  },
  {
   "cell_type": "code",
   "execution_count": 24,
   "metadata": {},
   "outputs": [
    {
     "data": {
      "text/html": [
       "<div>\n",
       "<style scoped>\n",
       "    .dataframe tbody tr th:only-of-type {\n",
       "        vertical-align: middle;\n",
       "    }\n",
       "\n",
       "    .dataframe tbody tr th {\n",
       "        vertical-align: top;\n",
       "    }\n",
       "\n",
       "    .dataframe thead th {\n",
       "        text-align: right;\n",
       "    }\n",
       "</style>\n",
       "<table border=\"1\" class=\"dataframe\">\n",
       "  <thead>\n",
       "    <tr style=\"text-align: center;\">\n",
       "      <th></th>\n",
       "      <th>target_real</th>\n",
       "      <th>target_predict</th>\n",
       "      <th>predction_result</th>\n",
       "      <th>confusion_matrix_cod</th>\n",
       "      <th>confusion_matrix_desc</th>\n",
       "    </tr>\n",
       "  </thead>\n",
       "  <tbody>\n",
       "    <tr>\n",
       "      <th>0</th>\n",
       "      <td>0</td>\n",
       "      <td>0</td>\n",
       "      <td>True</td>\n",
       "      <td>TN</td>\n",
       "      <td>TRUE NEGATIVE</td>\n",
       "    </tr>\n",
       "    <tr>\n",
       "      <th>1</th>\n",
       "      <td>1</td>\n",
       "      <td>1</td>\n",
       "      <td>True</td>\n",
       "      <td>TP</td>\n",
       "      <td>TRUE POSITIVE</td>\n",
       "    </tr>\n",
       "    <tr>\n",
       "      <th>2</th>\n",
       "      <td>0</td>\n",
       "      <td>0</td>\n",
       "      <td>True</td>\n",
       "      <td>TN</td>\n",
       "      <td>TRUE NEGATIVE</td>\n",
       "    </tr>\n",
       "    <tr>\n",
       "      <th>3</th>\n",
       "      <td>1</td>\n",
       "      <td>1</td>\n",
       "      <td>True</td>\n",
       "      <td>TP</td>\n",
       "      <td>TRUE POSITIVE</td>\n",
       "    </tr>\n",
       "    <tr>\n",
       "      <th>4</th>\n",
       "      <td>0</td>\n",
       "      <td>0</td>\n",
       "      <td>True</td>\n",
       "      <td>TN</td>\n",
       "      <td>TRUE NEGATIVE</td>\n",
       "    </tr>\n",
       "  </tbody>\n",
       "</table>\n",
       "</div>"
      ],
      "text/plain": [
       "   target_real  target_predict  predction_result confusion_matrix_cod confusion_matrix_desc\n",
       "0       0              0              True                TN               TRUE NEGATIVE   \n",
       "1       1              1              True                TP               TRUE POSITIVE   \n",
       "2       0              0              True                TN               TRUE NEGATIVE   \n",
       "3       1              1              True                TP               TRUE POSITIVE   \n",
       "4       0              0              True                TN               TRUE NEGATIVE   "
      ]
     },
     "execution_count": 24,
     "metadata": {},
     "output_type": "execute_result"
    }
   ],
   "source": [
    "# Create dataframe to comparer predict and real results\n",
    "\n",
    "df_result = pd.concat([y_test.reset_index(drop=True), pd.Series(y_pred)], axis=1)\n",
    "\n",
    "df_result.columns = ['target_real','target_predict']\n",
    "\n",
    "df_result['predction_result'] = df_result.target_real == df_result.target_predict\n",
    "\n",
    "df_result['aux'] = df_result.target_real.astype(str) + '-' + df_result.target_predict.astype(str)\n",
    "\n",
    "result_dic_1 = {\n",
    "    '0-0' : 'TN',\n",
    "    '1-1' : 'TP',\n",
    "    '0-1' : 'FP',\n",
    "    '1-0' : 'FN'\n",
    "}\n",
    "\n",
    "result_dic_2 = {\n",
    "    '0-0' : 'TRUE NEGATIVE',\n",
    "    '1-1' : 'TRUE POSITIVE',\n",
    "    '0-1' : 'FALSE POSITIVE',\n",
    "    '1-0' : 'FALSE NEGATIVE'\n",
    "}\n",
    "\n",
    "df_result['confusion_matrix_cod'] = df_result.aux.replace(result_dic_1)\n",
    "df_result['confusion_matrix_desc'] = df_result.aux.replace(result_dic_2)\n",
    "\n",
    "df_result = df_result.drop(['aux'], axis=1)\n",
    "\n",
    "df_result.head()"
   ]
  },
  {
   "cell_type": "code",
   "execution_count": 25,
   "metadata": {},
   "outputs": [
    {
     "data": {
      "text/plain": [
       "TP    64\n",
       "TN    40\n",
       "FN     8\n",
       "FP     2\n",
       "Name: confusion_matrix_cod, dtype: int64"
      ]
     },
     "execution_count": 25,
     "metadata": {},
     "output_type": "execute_result"
    }
   ],
   "source": [
    "# Count manually the confusion matrix\n",
    "\n",
    "df_result.confusion_matrix_cod.value_counts()"
   ]
  },
  {
   "cell_type": "code",
   "execution_count": 26,
   "metadata": {},
   "outputs": [
    {
     "name": "stdout",
     "output_type": "stream",
     "text": [
      "Model : DecisionTreeClassifier\n",
      "Accuracy Score: \t91%\n",
      "Precision Score: \t97%\n",
      "Recall Score: \t\t89%\n",
      "F1 Score: \t\t93%\n",
      "Matthews Correlation: \t82%\n"
     ]
    }
   ],
   "source": [
    "# Calcule manually each score\n",
    "\n",
    "accuracy = accuracy_score(y_test,y_pred)\n",
    "precision = precision_score(y_test,y_pred)\n",
    "recall = recall_score(y_test,y_pred)\n",
    "f1 = f1_score(y_test,y_pred)\n",
    "matthews = matthews_corrcoef(y_test,y_pred)\n",
    "\n",
    "dic_decision_tree = {'DecisionTreeClassifier' : [accuracy,precision,recall,f1,matthews]}\n",
    "\n",
    "# Print the results\n",
    "print(f\"Model : DecisionTreeClassifier\")\n",
    "print(f\"Accuracy Score: \\t{accuracy:.0%}\")\n",
    "print(f\"Precision Score: \\t{precision:.0%}\")\n",
    "print(f\"Recall Score: \\t\\t{recall:.0%}\")\n",
    "print(f\"F1 Score: \\t\\t{f1:.0%}\")\n",
    "print(f\"Matthews Correlation: \\t{matthews:.0%}\")"
   ]
  },
  {
   "cell_type": "markdown",
   "metadata": {},
   "source": [
    "## Matrix"
   ]
  },
  {
   "cell_type": "code",
   "execution_count": 27,
   "metadata": {},
   "outputs": [
    {
     "data": {
      "text/plain": [
       "array([[64,  8],\n",
       "       [ 2, 40]], dtype=int64)"
      ]
     },
     "execution_count": 27,
     "metadata": {},
     "output_type": "execute_result"
    }
   ],
   "source": [
    "# Create confusion matrix\n",
    "\n",
    "data = confusion_matrix(y_test, y_pred, labels=[1,0])\n",
    "\n",
    "data"
   ]
  },
  {
   "cell_type": "code",
   "execution_count": 28,
   "metadata": {},
   "outputs": [
    {
     "data": {
      "image/png": "[encoded data removed]",
      "text/plain": [
       "<Figure size 1000x700 with 1 Axes>"
      ]
     },
     "metadata": {},
     "output_type": "display_data"
    }
   ],
   "source": [
    "# Create dataframe from Confusion Matrix\n",
    "\n",
    "df_cm = pd.DataFrame(data, columns=['True','False'], index = ['True','False'])\n",
    "\n",
    "df_cm.index.name = 'Actual'\n",
    "df_cm.columns.name = 'Predicted'\n",
    "\n",
    "# Concact labels information\n",
    "\n",
    "cf_matrix = confusion_matrix(y_test, y_pred, labels=[1,0])\n",
    "\n",
    "group_names = ['(TP)','(FN)','(FP)','(TN)']\n",
    "\n",
    "group_counts = ['{0:0.0f}'.format(value) for value in\n",
    "                cf_matrix.flatten()]\n",
    "\n",
    "group_percentages = ['{0:.1%}'.format(value) for value in\n",
    "                     cf_matrix.flatten()/np.sum(cf_matrix)]\n",
    "\n",
    "labels = [f'{v1}\\n{v2}' for v1, v2 in\n",
    "          zip(group_counts,group_names)]\n",
    "\n",
    "labels = np.asarray(labels).reshape(2,2)\n",
    "\n",
    "# Color map for Heatmap\n",
    "\n",
    "cm = np.array([[2547, 288], [255, 216]])\n",
    "\n",
    "# Create plot with absolute values\n",
    "\n",
    "fig, ax = plt.subplots(figsize = (10,7))\n",
    "\n",
    "sns.set(font_scale=1.4)\n",
    "sns.heatmap(\n",
    "    df_cm,\n",
    "    cmap = 'Blues',\n",
    "    # cmap=sns.color_palette(['tomato', 'palegreen'], as_cmap=True),\n",
    "    annot=labels,\n",
    "    fmt='',\n",
    "    annot_kws={\"size\": 16},\n",
    "    cbar=False\n",
    "    )\n",
    "\n",
    "ax.xaxis.tick_top()\n",
    "ax.xaxis.set_label_position('top')\n",
    "plt.tick_params(left = False, top = False, bottom=False, right=False)\n",
    "\n",
    "plt.subplots_adjust(top=0.82)\n",
    "\n",
    "fig.suptitle('Confusion Matrix', fontsize=22, fontweight='bold')\n",
    "\n",
    "# Add Insight section\n",
    "\n",
    "fig.text(1, 0.95, 'Performance Metrics', fontsize=15, fontweight='bold')\n",
    "\n",
    "text_comment = (f\"Model : DecisionTreeClassifier \\nAccuracy Score: {accuracy:.1%} \\nPrecision Score: {precision:.1%} \\nRecall Score: {recall:.1%} \\nF1 Score: {f1:.1%} \\nMatthews Correlation: {matthews:.1%}\")\n",
    "\n",
    "text_theory = 'Accuracy = (TP + TN) / (TP + TN + FP + FN) \\nPrecion = TP / (TP + FP) \\nRecall = TP / (TP + FN) \\nF1 Score = 2TP / (2 TP + FP + FN)'\n",
    "\n",
    "fig.text(1, 0.65, text_comment,fontsize=12, fontweight='light', linespacing=1.75)\n",
    "fig.text(1, 0.4, text_theory,fontsize=12, fontweight='light', linespacing=1.75)\n",
    "\n",
    "\n",
    "import matplotlib.lines as lines\n",
    "\n",
    "l1 = lines.Line2D([0.95, 0.95], [0, 1], transform=fig.transFigure, figure=fig,color='black',lw=0.1)\n",
    "\n",
    "fig.lines.extend([l1])\n",
    "\n",
    "#plt.tight_layout()\n",
    "\n",
    "plt.show()"
   ]
  }
 ],
 "metadata": {
  "kernelspec": {
   "display_name": "base",
   "language": "python",
   "name": "python3"
  },
  "language_info": {
   "codemirror_mode": {
    "name": "ipython",
    "version": 3
   },
   "file_extension": ".py",
   "mimetype": "text/x-python",
   "name": "python",
   "nbconvert_exporter": "python",
   "pygments_lexer": "ipython3",
   "version": "3.10.9"
  },
  "orig_nbformat": 4
 },
 "nbformat": 4,
 "nbformat_minor": 2
}
